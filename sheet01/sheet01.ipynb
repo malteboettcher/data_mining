{
 "cells": [
  {
   "cell_type": "markdown",
   "id": "c2e647a4",
   "metadata": {},
   "source": [
    "# Exercise Sheet 01: Data preprocessing, visualization, correlation, statistical testing, and modeling\n",
    "\n",
    "**Introduction to Data Mining WS23/24**  \n",
    "**Bielefeld University**  \n",
    "**Alina Deriyeva, Benjamin Paaßen**  \n",
    "**Exercise Sheet Publication Date: 2023-10-23**  \n",
    "**Exercise Sheet Submission Deadline: 2023-11-03, noon (i.e. 12:00), via git or e-mail to aderiyeva@techfak.uni-bielefeld.de**\n",
    "\n",
    "**NOTE** The use of language models/AI tools is permitted IF you notify us of the use (just indicate it in the respective task) and are still able to understand and present your results. We also appreciate it if you link to a chatlog of the interaction with the language model/AI tool so that we can understand better how students tend to use these tools."
   ]
  },
  {
   "cell_type": "markdown",
   "id": "9f8967b8",
   "metadata": {},
   "source": [
    "**PLEASE INDICATE ALL AUTHORS OF THE SUBMISSION IN THIS FIELD**\n",
    "\n",
    "Malte Böttcher\n",
    "Mikey Hiddemann"
   ]
  },
  {
   "cell_type": "markdown",
   "id": "2591c02c",
   "metadata": {},
   "source": [
    "## Preamble: Data set\n",
    "\n",
    "In this exercise sheet, we investigate first data exploration activities that can be performed on typical, tabular data sets, up to simple statistical testing.\n",
    "\n",
    "The file `sheet01_data.csv` contains fictional data as might be produced in an educational study. Each row represents a student participating in the study. The first column is just the student index, the second column indicates the experimental condition the student was in (`0` for control group, `1` for intervention group). The third column is the student's test result on a pre-test, the fourth column is the student's test result on a post-test.\n",
    "\n",
    "The following line loads this raw data and prints it."
   ]
  },
  {
   "cell_type": "code",
   "execution_count": 17,
   "id": "d0d93f7c",
   "metadata": {
    "ExecuteTime": {
     "end_time": "2023-10-31T13:06:41.437379700Z",
     "start_time": "2023-10-31T13:06:41.093055700Z"
    }
   },
   "outputs": [
    {
     "name": "stdout",
     "output_type": "stream",
     "text": [
      "[[  0.   0.  27.  40.]\n",
      " [  1.   0.  31.  34.]\n",
      " [  2.   0.  30.  nan]\n",
      " [  3.   0.  20.  nan]\n",
      " [  4.   0.  41.  54.]\n",
      " [  5.   0.  39.  51.]\n",
      " [  6.   0.  20.  33.]\n",
      " [  7.   0.  27.  36.]\n",
      " [  8.   0.  79.  83.]\n",
      " [  9.   0.  33.  46.]\n",
      " [ 10.   0.  22.  29.]\n",
      " [ 11.   0.  22.  41.]\n",
      " [ 12.   0.  29.  nan]\n",
      " [ 13.   0.  25.  nan]\n",
      " [ 14.   0.  41.  47.]\n",
      " [ 15.   0.  23.  36.]\n",
      " [ 16.   0.  17.  30.]\n",
      " [ 17.   0.  93. 100.]\n",
      " [ 18.   0.  34.  40.]\n",
      " [ 19.   0.  23.  27.]\n",
      " [ 20.   0.  48.  53.]\n",
      " [ 21.   0.  19.  26.]\n",
      " [ 22.   0.  28.  33.]\n",
      " [ 23.   0.  38.  46.]\n",
      " [ 24.   0.  22.  34.]\n",
      " [ 25.   0.  34.  45.]\n",
      " [ 26.   0.  36.  49.]\n",
      " [ 27.   0.  33.  47.]\n",
      " [ 28.   0.  40.  41.]\n",
      " [ 29.   0.  39.  52.]\n",
      " [ 30.   1.  24.  50.]\n",
      " [ 31.   1.  38.  62.]\n",
      " [ 32.   1.  34.  51.]\n",
      " [ 33.   1.  37.  nan]\n",
      " [ 34.   1.  31.  44.]\n",
      " [ 35.   1.  37.  57.]\n",
      " [ 36.   1.  25.  50.]\n",
      " [ 37.   1.  23.  37.]\n",
      " [ 38.   1.  12.  38.]\n",
      " [ 39.   1.  31.  56.]\n",
      " [ 40.   1.  36.  46.]\n",
      " [ 41.   1.  34.  48.]\n",
      " [ 42.   1.  85. 100.]\n",
      " [ 43.   1.  41.  59.]\n",
      " [ 44.   1.  14.  37.]\n",
      " [ 45.   1.   7.  29.]\n",
      " [ 46.   1.  30.  54.]\n",
      " [ 47.   1.  42.  62.]\n",
      " [ 48.   1.  25.  44.]\n",
      " [ 49.   1.  29.  53.]\n",
      " [ 50.   1.  17.  40.]\n",
      " [ 51.   1.  40.  63.]\n",
      " [ 52.   1.  29.  46.]\n",
      " [ 53.   1.  33.  nan]\n",
      " [ 54.   1.  24.  50.]\n",
      " [ 55.   1.  38.  53.]\n",
      " [ 56.   1.  26.  48.]\n",
      " [ 57.   1.  41.  nan]\n",
      " [ 58.   1.  37.  65.]\n",
      " [ 59.   1.  41.  61.]]\n"
     ]
    }
   ],
   "source": [
    "import math\n",
    "\n",
    "import numpy as np\n",
    "import matplotlib.pyplot as plt\n",
    "import scipy.stats\n",
    "\n",
    "X = np.loadtxt('sheet01_data.csv', skiprows = 1, delimiter = '\\t')\n",
    "print(X)"
   ]
  },
  {
   "cell_type": "markdown",
   "id": "4e93d467",
   "metadata": {},
   "source": [
    "### Task 01.01\n",
    "\n",
    "Write python code to automatically identify outliers, which are defined as any students with a pre-test score higher than 3 standard deviations above the mean. Write python code that removes these outliers from the data set."
   ]
  },
  {
   "cell_type": "code",
   "execution_count": 18,
   "id": "04b3b0e2",
   "metadata": {
    "ExecuteTime": {
     "end_time": "2023-10-31T13:06:41.437379700Z",
     "start_time": "2023-10-31T13:06:41.125135300Z"
    }
   },
   "outputs": [
    {
     "name": "stdout",
     "output_type": "stream",
     "text": [
      "32.9\n",
      "14.790424830499855\n",
      "77.27127449149955\n",
      "[array([ 8.,  0., 79., 83.]), array([ 17.,   0.,  93., 100.]), array([ 42.,   1.,  85., 100.])]\n",
      "[array([ 0.,  0., 27., 40.]), array([ 1.,  0., 31., 34.]), array([ 2.,  0., 30., nan]), array([ 3.,  0., 20., nan]), array([ 4.,  0., 41., 54.]), array([ 5.,  0., 39., 51.]), array([ 6.,  0., 20., 33.]), array([ 7.,  0., 27., 36.]), array([ 9.,  0., 33., 46.]), array([10.,  0., 22., 29.]), array([11.,  0., 22., 41.]), array([12.,  0., 29., nan]), array([13.,  0., 25., nan]), array([14.,  0., 41., 47.]), array([15.,  0., 23., 36.]), array([16.,  0., 17., 30.]), array([18.,  0., 34., 40.]), array([19.,  0., 23., 27.]), array([20.,  0., 48., 53.]), array([21.,  0., 19., 26.]), array([22.,  0., 28., 33.]), array([23.,  0., 38., 46.]), array([24.,  0., 22., 34.]), array([25.,  0., 34., 45.]), array([26.,  0., 36., 49.]), array([27.,  0., 33., 47.]), array([28.,  0., 40., 41.]), array([29.,  0., 39., 52.]), array([30.,  1., 24., 50.]), array([31.,  1., 38., 62.]), array([32.,  1., 34., 51.]), array([33.,  1., 37., nan]), array([34.,  1., 31., 44.]), array([35.,  1., 37., 57.]), array([36.,  1., 25., 50.]), array([37.,  1., 23., 37.]), array([38.,  1., 12., 38.]), array([39.,  1., 31., 56.]), array([40.,  1., 36., 46.]), array([41.,  1., 34., 48.]), array([43.,  1., 41., 59.]), array([44.,  1., 14., 37.]), array([45.,  1.,  7., 29.]), array([46.,  1., 30., 54.]), array([47.,  1., 42., 62.]), array([48.,  1., 25., 44.]), array([49.,  1., 29., 53.]), array([50.,  1., 17., 40.]), array([51.,  1., 40., 63.]), array([52.,  1., 29., 46.]), array([53.,  1., 33., nan]), array([54.,  1., 24., 50.]), array([55.,  1., 38., 53.]), array([56.,  1., 26., 48.]), array([57.,  1., 41., nan]), array([58.,  1., 37., 65.]), array([59.,  1., 41., 61.])]\n"
     ]
    }
   ],
   "source": [
    "pre_test_score = list(map(lambda x: x[2], X))\n",
    "mean_pre_test = np.mean(pre_test_score)\n",
    "std_pre_test = np.std(pre_test_score)\n",
    "\n",
    "outlier_threshold = mean_pre_test + 3 * std_pre_test\n",
    "\n",
    "outliers = list(filter(lambda x: x[2] > outlier_threshold, X))\n",
    "\n",
    "filtered_students = list(filter(lambda x: x[2] <= outlier_threshold, X))\n",
    "\n",
    "print(mean_pre_test)\n",
    "print(std_pre_test)\n",
    "print(outlier_threshold)\n",
    "print(outliers)\n",
    "print(filtered_students)"
   ]
  },
  {
   "cell_type": "markdown",
   "id": "a83ec646",
   "metadata": {},
   "source": []
  },
  {
   "cell_type": "markdown",
   "id": "67a93666",
   "metadata": {},
   "source": [
    "Print how many points are left in the control group and the intervention group after outlier removal"
   ]
  },
  {
   "cell_type": "code",
   "execution_count": 19,
   "id": "3a11dc77",
   "metadata": {
    "ExecuteTime": {
     "end_time": "2023-10-31T13:06:41.437379700Z",
     "start_time": "2023-10-31T13:06:41.140899900Z"
    }
   },
   "outputs": [
    {
     "name": "stdout",
     "output_type": "stream",
     "text": [
      "28\n",
      "29\n"
     ]
    }
   ],
   "source": [
    "control_group, intervention_group = [], []\n",
    "for student in filtered_students:\n",
    "    control_group.append(student) if student[1] == 0 else intervention_group.append(student)\n",
    "\n",
    "print(len(control_group))\n",
    "print(len(intervention_group))"
   ]
  },
  {
   "cell_type": "markdown",
   "id": "b4d3cbdb",
   "metadata": {},
   "source": [
    "### Task 01.02\n",
    "\n",
    "Write python code to compute the mean pre- and post-test score, as well as the respective standard deviation, of the control group and the intervention group. Be aware of nan values. Print the results."
   ]
  },
  {
   "cell_type": "code",
   "execution_count": 20,
   "id": "64cc8bb6",
   "metadata": {
    "ExecuteTime": {
     "end_time": "2023-10-31T13:06:41.453061500Z",
     "start_time": "2023-10-31T13:06:41.156541300Z"
    }
   },
   "outputs": [
    {
     "name": "stdout",
     "output_type": "stream",
     "text": [
      "30.035714285714285\n",
      "8.033332980495095\n",
      "40.416666666666664\n",
      "8.396014266040497\n",
      "30.20689655172414\n",
      "9.147750092122058\n",
      "50.11538461538461\n",
      "9.069504791319277\n"
     ]
    }
   ],
   "source": [
    "pre_test_score_control = list(map(lambda x: x[2], control_group))\n",
    "mean_pre_test_control = np.mean(pre_test_score_control)\n",
    "std_pre_test_control = np.std(pre_test_score_control)\n",
    "\n",
    "print(mean_pre_test_control)\n",
    "print(std_pre_test_control)\n",
    "\n",
    "# n != n holds only true for NaN values\n",
    "post_test_score_control = list(map(lambda x: x[3], filter(lambda n: n[3] == n[3], control_group)))\n",
    "mean_post_test_control = np.mean(post_test_score_control)\n",
    "std_post_test_control = np.std(post_test_score_control)\n",
    "\n",
    "print(mean_post_test_control)\n",
    "print(std_post_test_control)\n",
    "\n",
    "pre_test_score_intervention = list(map(lambda x: x[2], intervention_group))\n",
    "mean_pre_test_intervention = np.mean(pre_test_score_intervention)\n",
    "std_pre_test_intervention = np.std(pre_test_score_intervention)\n",
    "\n",
    "print(mean_pre_test_intervention)\n",
    "print(std_pre_test_intervention)\n",
    "\n",
    "# n != n holds only true for NaN values\n",
    "post_test_score_intervention = list(map(lambda x: x[3], filter(lambda n: n[3] == n[3], intervention_group)))\n",
    "mean_post_test_intervention = np.mean(post_test_score_intervention)\n",
    "std_post_test_intervention = np.std(post_test_score_intervention)\n",
    "\n",
    "print(mean_post_test_intervention)\n",
    "print(std_post_test_intervention)\n",
    "\n",
    "\n",
    "\n"
   ]
  },
  {
   "cell_type": "markdown",
   "id": "f98eecb2",
   "metadata": {},
   "source": [
    "### Task 01.03\n",
    "\n",
    "Write python code to impute the missing values (that means: nan values) in the post test scores by the mean of the data. HOWEVER, the imputation should be done separately for the control and the intervention group."
   ]
  },
  {
   "cell_type": "code",
   "execution_count": 21,
   "id": "bc00cfc0",
   "metadata": {
    "ExecuteTime": {
     "end_time": "2023-10-31T13:06:41.453061500Z",
     "start_time": "2023-10-31T13:06:41.172201900Z"
    }
   },
   "outputs": [],
   "source": [
    "# assuming no NaN values in pretest\n",
    "\n",
    "for student in control_group:\n",
    "    if student[3] != student[3]:\n",
    "        student[3] = mean_post_test_control\n",
    "\n",
    "for student in intervention_group:\n",
    "    if student[3] != student[3]:\n",
    "        student[3] = mean_post_test_intervention\n"
   ]
  },
  {
   "cell_type": "markdown",
   "source": [],
   "metadata": {
    "collapsed": false
   },
   "id": "299c1ace31991bb8"
  },
  {
   "cell_type": "markdown",
   "id": "6dc11501",
   "metadata": {},
   "source": [
    "## Data Visualization"
   ]
  },
  {
   "cell_type": "markdown",
   "id": "e14b18c1",
   "metadata": {},
   "source": [
    "### Task 01.04\n",
    "\n",
    "Display two scatter plots (via `matplotlib.pyplot.scatter`), one for the control group and one for the intervention group, with pre-test score on the x-axis and post-test score on the y-axis. Label the axis and give the plots titles. Interpret these plot: Do you believe that pre- and post-test score correlate?"
   ]
  },
  {
   "cell_type": "code",
   "execution_count": 22,
   "id": "73d743b5",
   "metadata": {
    "ExecuteTime": {
     "end_time": "2023-10-31T13:06:41.484431900Z",
     "start_time": "2023-10-31T13:06:41.187772800Z"
    }
   },
   "outputs": [
    {
     "data": {
      "text/plain": "<Figure size 640x480 with 1 Axes>",
      "image/png": "[encoded data removed]"
     },
     "metadata": {},
     "output_type": "display_data"
    },
    {
     "data": {
      "text/plain": "<Figure size 640x480 with 1 Axes>",
      "image/png": "[encoded data removed]"
     },
     "metadata": {},
     "output_type": "display_data"
    }
   ],
   "source": [
    "# reassign post_test_score after imputation\n",
    "post_test_score_control = list(map(lambda x: x[3], control_group))\n",
    "post_test_score_intervention = list(map(lambda x: x[3], intervention_group))\n",
    "\n",
    "plt.scatter(pre_test_score_control, post_test_score_control)\n",
    "plt.title(\"control group\")\n",
    "plt.xlabel(\"pre-test score\")\n",
    "plt.ylabel(\"post-test score\")\n",
    "\n",
    "plt.show()\n",
    "\n",
    "plt.scatter(pre_test_score_intervention, post_test_score_intervention)\n",
    "plt.title(\"intervention group\")\n",
    "plt.xlabel(\"pre-test score\")\n",
    "plt.ylabel(\"post-test score\")\n",
    "\n",
    "plt.show()\n",
    "\n"
   ]
  },
  {
   "cell_type": "markdown",
   "id": "6fde7831",
   "metadata": {},
   "source": [
    "Yes, I believe that pre- and post-test scores correlate because post-test scores tend to be higher when pre-test scores are higher and vice versa."
   ]
  },
  {
   "cell_type": "markdown",
   "id": "cb85469c",
   "metadata": {},
   "source": [
    "### Task 01.05\n",
    "\n",
    "Display a bar plot with four bars (with error bars): pre-test mean (and standard error) for control and intervention group; and post-test mean (with standard error) for control and intervention group. Label the axes.\n",
    "Interpret this plot: Where are significant differences, do you think? What is your explanation for these differences?"
   ]
  },
  {
   "cell_type": "code",
   "execution_count": 23,
   "id": "b449f058",
   "metadata": {
    "ExecuteTime": {
     "end_time": "2023-10-31T13:06:41.710111900Z",
     "start_time": "2023-10-31T13:06:41.453061500Z"
    }
   },
   "outputs": [
    {
     "data": {
      "text/plain": "<Figure size 640x480 with 1 Axes>",
      "image/png": "[encoded data removed]"
     },
     "metadata": {},
     "output_type": "display_data"
    }
   ],
   "source": [
    "st_error_pre_control = std_pre_test_control / np.sqrt(len(control_group))\n",
    "st_error_post_control = std_post_test_control / np.sqrt(len(control_group))\n",
    "\n",
    "st_error_pre_intervention = std_pre_test_intervention / np.sqrt(len(intervention_group))\n",
    "st_error_post_intervention = std_post_test_intervention / np.sqrt(len(intervention_group))\n",
    "\n",
    "st_errors = [st_error_pre_control, st_error_pre_intervention, st_error_post_control, st_error_post_intervention]\n",
    "\n",
    "x = [1,2,3,4]\n",
    "plt.bar(x, [mean_pre_test_control, mean_pre_test_intervention, mean_post_test_control, mean_post_test_intervention], yerr = st_errors)\n",
    "plt.title(\"Mean scores of students\")\n",
    "\n",
    "x_labels = [\"pre-test control group\", \"pre-test intervention group\", \"post-test control group\", \"post-test intervention group\"]\n",
    "plt.xticks(x, x_labels, rotation=45)\n",
    "\n",
    "plt.show()"
   ]
  },
  {
   "cell_type": "markdown",
   "id": "02752dcc",
   "metadata": {},
   "source": [
    "I think control pre and intervention pre do not differ.\n",
    "control post is higher than both control pre and intervention pre because the students learned something between pre- and post-test.\n",
    "intervention post is even higher than control post because students learned more in the intervention than in the control condition.\n",
    "\n"
   ]
  },
  {
   "cell_type": "markdown",
   "id": "96c8b00a",
   "metadata": {},
   "source": [
    "### Task 01.06\n",
    "\n",
    "Display a bar plot with two bars (with error bars): the difference between post- and pre-test score for the control group (with standard error) and for the intervention group (with standard error). Label the axes. Interpret this plot: Do you think the difference of post- and pre-test scores significantly differs between control and intervention group?"
   ]
  },
  {
   "cell_type": "code",
   "execution_count": 24,
   "id": "95af15e3",
   "metadata": {
    "ExecuteTime": {
     "end_time": "2023-10-31T13:06:41.867407Z",
     "start_time": "2023-10-31T13:06:41.583143100Z"
    }
   },
   "outputs": [
    {
     "data": {
      "text/plain": "<Figure size 640x480 with 1 Axes>",
      "image/png": "[encoded data removed]"
     },
     "metadata": {},
     "output_type": "display_data"
    }
   ],
   "source": [
    "control_dif = [student[3] - student[2] for student in control_group]\n",
    "mean_control_dif = np.mean(control_dif)\n",
    "intervention_dif = [student[3] - student[2] for student in intervention_group]\n",
    "mean_intervention_dif = np.mean(intervention_dif)\n",
    "\n",
    "st_error_control_dif =  np.std(control_dif) / np.sqrt(len(control_group))\n",
    "st_error_intervention_dif = np.std(intervention_dif) / np.sqrt(len(control_dif))\n",
    "\n",
    "st_errors_dif = [st_error_control_dif, st_error_intervention_dif]\n",
    "\n",
    "x = [1,2]\n",
    "plt.bar(x, [mean_control_dif, mean_intervention_dif], yerr = st_errors_dif)\n",
    "plt.title(\"Difference of test scores\")\n",
    "\n",
    "x_labels = [\"pre-test vs post-test control\", \"pre-test vs post-test intervention\"]\n",
    "plt.xticks(x, x_labels, rotation=45)\n",
    "\n",
    "plt.show()"
   ]
  },
  {
   "cell_type": "markdown",
   "id": "3886ad85",
   "metadata": {},
   "source": [
    "Yes, I think the score difference is significantly higher in the intervention group."
   ]
  },
  {
   "cell_type": "markdown",
   "id": "296e5b5e",
   "metadata": {},
   "source": [
    "### Task 01.07 (Bonus task)\n",
    "\n",
    "Display a box plot with four boxes: pre-test results in the control and intervention group, and post-test results in the control and intervention group. Label the axes."
   ]
  },
  {
   "cell_type": "code",
   "execution_count": 25,
   "id": "7d6ec57c",
   "metadata": {
    "ExecuteTime": {
     "end_time": "2023-10-31T13:06:41.867407Z",
     "start_time": "2023-10-31T13:06:41.710111900Z"
    }
   },
   "outputs": [
    {
     "data": {
      "text/plain": "<Figure size 640x480 with 1 Axes>",
      "image/png": "[encoded data removed]"
     },
     "metadata": {},
     "output_type": "display_data"
    }
   ],
   "source": [
    "# Condition 0, pre-test\n",
    "control_pre = X[X[:, 1] == 0, 2]  \n",
    "\n",
    "# Condition 1, pre-test\n",
    "intervention_pre = X[X[:, 1] == 1, 2] \n",
    "\n",
    "# Condition 0, post-test\n",
    "control_post = X[X[:, 1] == 0, 3]  \n",
    "\n",
    "# Condition 1, post-test\n",
    "intervention_post = X[X[:, 1] == 1, 3]\n",
    "\n",
    "data = [control_pre, intervention_pre, control_post, intervention_post]\n",
    "plt.boxplot(data, labels=['Contr. Pre', 'Interv. Pre', 'Contr. Post', 'Interv. Post'])\n",
    "\n",
    "plt.xlabel('Test Type')\n",
    "plt.ylabel('Test Results')\n",
    "plt.show()"
   ]
  },
  {
   "cell_type": "markdown",
   "id": "874ce4ea",
   "metadata": {},
   "source": [
    "### Task 01.08 (Bonus Task)\n",
    "\n",
    "Display a box plot with two boxes: difference between post-test and pre-test scores for the control group and the intervention group."
   ]
  },
  {
   "cell_type": "code",
   "execution_count": 26,
   "id": "084699cb",
   "metadata": {
    "ExecuteTime": {
     "end_time": "2023-10-31T13:06:41.965845Z",
     "start_time": "2023-10-31T13:06:41.836010300Z"
    }
   },
   "outputs": [
    {
     "data": {
      "text/plain": "<Figure size 640x480 with 1 Axes>",
      "image/png": "[encoded data removed]"
     },
     "metadata": {},
     "output_type": "display_data"
    }
   ],
   "source": [
    "control_diff = control_post - control_pre\n",
    "intervention_diff = intervention_post - intervention_pre\n",
    "\n",
    "data = [control_diff, intervention_diff]\n",
    "plt.boxplot(data, labels=['Control Difference', 'Intervention Difference'])\n",
    "\n",
    "plt.xlabel('Test Type')\n",
    "plt.ylabel('Test Results')\n",
    "plt.show()"
   ]
  },
  {
   "cell_type": "markdown",
   "id": "6e4a6bbf",
   "metadata": {},
   "source": [
    "## Statistical Testing"
   ]
  },
  {
   "cell_type": "markdown",
   "id": "2679fdb5",
   "metadata": {},
   "source": [
    "### Task 01.09\n",
    "\n",
    "Write a python function to compute the Pearson correlation between two arrays of the same size."
   ]
  },
  {
   "cell_type": "code",
   "execution_count": 27,
   "outputs": [],
   "source": [
    "def pearson_correlation(x, y):\n",
    "   x_mean = np.mean(x)\n",
    "   y_mean = np.mean(y)\n",
    "   x_std = np.std(x)\n",
    "   y_std = np.std(y)\n",
    "\n",
    "   sum_coef = 0\n",
    "   for i in range(len(x)):\n",
    "        sum_coef += ((x[i] - x_mean) / x_std) * ((y[i] - y_mean) / y_std)\n",
    "   return sum_coef / len(x)\n"
   ],
   "metadata": {
    "collapsed": false,
    "ExecuteTime": {
     "end_time": "2023-10-31T13:06:41.965845Z",
     "start_time": "2023-10-31T13:06:41.950054Z"
    }
   },
   "id": "1595aa51fd18ea1b"
  },
  {
   "cell_type": "markdown",
   "id": "b451ceff",
   "metadata": {},
   "source": [
    "### Task 01.10\n",
    "\n",
    "Use your function to compute the Pearson correlation between pre-test and post-test scores for both control and intervention condition and print the scores.\n",
    "\n",
    "Interpret the strength of the correlation using the following rule of thumb from [Mukaka (2012)](https://www.ajol.info/index.php/mmj/article/download/81576/71739):\n",
    "\n",
    "* A correlation of $0.3 < |r| \\leq 0.5$ is considered small.\n",
    "* A correlation of $0.5 < |r| \\leq 0.7$ is considered moderate.\n",
    "* A correlation of $0.7 < |r| \\leq 0.9$ is considered high.\n",
    "* A correlation of $0.9 < |r| \\leq 1.0$ is considered very high."
   ]
  },
  {
   "cell_type": "code",
   "execution_count": 28,
   "id": "95846faa",
   "metadata": {
    "ExecuteTime": {
     "end_time": "2023-10-31T13:06:41.981491800Z",
     "start_time": "2023-10-31T13:06:41.965845Z"
    }
   },
   "outputs": [
    {
     "name": "stdout",
     "output_type": "stream",
     "text": [
      "0.837840086591938\n",
      "0.8332611589015754\n"
     ]
    }
   ],
   "source": [
    "pre_post_correlation_control = pearson_correlation(pre_test_score_control, post_test_score_control)\n",
    "pre_post_correlation_intervention = pearson_correlation(pre_test_score_intervention, post_test_score_intervention)\n",
    "\n",
    "print(pre_post_correlation_intervention)\n",
    "print(pre_post_correlation_control)"
   ]
  },
  {
   "cell_type": "markdown",
   "source": [
    "The correlation between the pre- and post-test of both groups is considered high"
   ],
   "metadata": {
    "collapsed": false
   },
   "id": "ab3c5adb5cd684f0"
  },
  {
   "cell_type": "markdown",
   "id": "22259ca3",
   "metadata": {},
   "source": [
    "Validate your scores by computing the Pearson correlation again with `scipy.stats.pearsonr`. Print both `r` and the `p` value returned by the function for both the control and the intervention condition. Are the correlations statistically significant at $0.01$ level?"
   ]
  },
  {
   "cell_type": "code",
   "execution_count": 29,
   "id": "dce1a401",
   "metadata": {
    "ExecuteTime": {
     "end_time": "2023-10-31T13:06:42.060245300Z",
     "start_time": "2023-10-31T13:06:41.981491800Z"
    }
   },
   "outputs": [
    {
     "name": "stdout",
     "output_type": "stream",
     "text": [
      "PearsonRResult(statistic=0.8332611589015756, pvalue=3.726448859366983e-08)\n",
      "PearsonRResult(statistic=0.837840086591938, pvalue=1.4299228500380579e-08)\n"
     ]
    }
   ],
   "source": [
    "print(scipy.stats.pearsonr(pre_test_score_control, post_test_score_control))\n",
    "print(scipy.stats.pearsonr(pre_test_score_intervention, post_test_score_intervention))"
   ]
  },
  {
   "cell_type": "markdown",
   "source": [
    "Both are statistically significant at $0.01$ level"
   ],
   "metadata": {
    "collapsed": false
   },
   "id": "a71c49e7616dc90d"
  },
  {
   "cell_type": "markdown",
   "id": "8a73b160",
   "metadata": {},
   "source": [
    "### Task 01.11\n",
    "\n",
    "Write a python function that performs a Welch $t$-test. In particular, your function should:\n",
    "1. compute the number of data points, the mean, and the standard deviation of both samples (use the `ddof = 1` parameter for the `np.std` function).\n",
    "2. compute the pooled standard deviation as\n",
    "\\begin{equation}\n",
    "\\sigma_\\text{pooled} = \\sqrt{\\frac{\\sigma_x^2}{n_x} + \\frac{\\sigma_y^2}{n_y}}\n",
    "\\end{equation}\n",
    "  where $n_x$ and $n_y$ are the number of data points in the two samples and $\\sigma_x$ and $\\sigma_y$ are the respective standard deviations.\n",
    "3. compute the $t$-statistic as \n",
    "\\begin{equation}\n",
    "t = -\\Big|\\frac{\\mu_x - \\mu_y}{\\sigma_\\text{pooled}}\\Big|\n",
    "\\end{equation}\n",
    "  where $\\mu_x$ and $\\mu_y$ are the means of the two samples.\n",
    "4. compute the number of degree of freedom via the Welch-Satterthwaite equation, meaning:\n",
    "\\begin{equation}\n",
    "\\text{df} = \\frac{\\sigma_\\text{pooled}^4}{\\frac{\\sigma_x^4}{n_x^2\\cdot(n_x - 1)} + \\frac{\\sigma_y^4}{n_y^2\\cdot(n_y - 1)}}\n",
    "\\end{equation}\n",
    "5. compute $p$ as twice the probability of any $t$ value equal or smaller to your value using the `cdf` function of `scipy.stats.t` with the number of freedoms as computed in the previous step.\n",
    "\n",
    "Your function should return both $t$ and $p$."
   ]
  },
  {
   "cell_type": "code",
   "execution_count": 29,
   "id": "93892529",
   "metadata": {
    "ExecuteTime": {
     "end_time": "2023-10-31T13:06:42.060245300Z",
     "start_time": "2023-10-31T13:06:41.997315300Z"
    }
   },
   "outputs": [],
   "source": []
  },
  {
   "cell_type": "markdown",
   "id": "da322421",
   "metadata": {},
   "source": [
    "### Task 01.12\n",
    "\n",
    "Write python code to perform the following Welch tests (using your function):\n",
    "1. the pre-test scores in the control versus the intervention condition\n",
    "2. the post-test scores in the control versus the intervention condition\n",
    "3. the differences between post- and pre-test scores in the control versus the intervention condition\n",
    "\n",
    "For each of the tests, print the $t$ and $p$.\n",
    "\n",
    "Which of the test results are significant at a $0.01$-level?\n",
    "\n",
    "**Hint:** You can validate that your function returns the correct $t$ and $p$ values by comparing to the output of the function `scipy.stats.ttest_ind` with `equal_var = False`."
   ]
  },
  {
   "cell_type": "code",
   "execution_count": 29,
   "id": "0b752429",
   "metadata": {
    "ExecuteTime": {
     "end_time": "2023-10-31T13:06:42.060245300Z",
     "start_time": "2023-10-31T13:06:42.013357400Z"
    }
   },
   "outputs": [],
   "source": []
  },
  {
   "cell_type": "markdown",
   "id": "90cfc77a",
   "metadata": {},
   "source": [
    "### Task 01.13\n",
    "\n",
    "Compute the effect sizes for the difference in post-test minus pre-test score between control and intervention condition using the formula\n",
    "\n",
    "\\begin{equation}\n",
    "d = \\frac{|\\mu_x - \\mu_y|}{\\sqrt{\\frac{1}{2}(\\sigma_x^2 + \\sigma_y^2)}}\n",
    "\\end{equation}\n",
    "\n",
    "where $\\mu_x$ and $\\mu_y$ are the mean score difference in intervention and control condition and $\\sigma_x$ and $\\sigma_y$ are the respective standard deviations.\n",
    "\n",
    "Print the effect size and interpret the size of the effect using the following rule of thumb (by [Sawilowsky (2009)](https://digitalcommons.wayne.edu/cgi/viewcontent.cgi?article=1536&context=jmasm))\n",
    "* An effect of size $0.01 < d \\leq 0.2$ is considered very small.\n",
    "* An effect of size $0.2 < d \\leq 0.5$ is considered small.\n",
    "* An effect of size $0.5 < d \\leq 0.8$ is considered moderate.\n",
    "* An effect of size $0.8 < d \\leq 1.2$ is considered large.\n",
    "* An effect of size $1.2 < d \\leq 2.0$ is considered very large.\n",
    "* An effect of size $d > 2.0$ is considered huge."
   ]
  },
  {
   "cell_type": "code",
   "execution_count": 29,
   "id": "132d8c01",
   "metadata": {
    "ExecuteTime": {
     "end_time": "2023-10-31T13:06:42.060245300Z",
     "start_time": "2023-10-31T13:06:42.028894Z"
    }
   },
   "outputs": [],
   "source": []
  },
  {
   "cell_type": "markdown",
   "id": "0ee25242",
   "metadata": {},
   "source": [
    "### Task 01.14 (Bonus Task)\n",
    "\n",
    "Write python code that uses the wilcoxon sign rank test (via `scipy.stats.wilcoxon`) to check whether the post-test scores in the control condition are significantly different from the pre-test scores. Repeat the same analysis for the intervention condition."
   ]
  },
  {
   "cell_type": "code",
   "execution_count": 29,
   "id": "8fa61be4",
   "metadata": {
    "ExecuteTime": {
     "end_time": "2023-10-31T13:06:42.060245300Z",
     "start_time": "2023-10-31T13:06:42.044604600Z"
    }
   },
   "outputs": [],
   "source": []
  },
  {
   "cell_type": "markdown",
   "id": "86c1e04e",
   "metadata": {},
   "source": [
    "## Probabilistic Modeling\n",
    "\n",
    "Let's assume that a student does a test in which they can achieve a certain number of points in the real numbers. Further, assume that the number of points achieved is generated from a Gaussian distribution with standard deviation $\\sigma$. However, the mean of the distribution depends on whether the student has understood the topic or not."
   ]
  },
  {
   "cell_type": "markdown",
   "id": "9cfcecc0",
   "metadata": {},
   "source": [
    "### Task 01.15\n",
    "\n",
    "Formalize this scenario. In particular:\n",
    "1. Model a random variable $Z$ that indicates whether the student understood the topic or not. What is the domain? What is the probability mass function $p_Z$? What are the parameters of this function?\n",
    "2. Model a random variable $X$ for the number of points the student achieves on the test. What is the conditional probability density function $p_{X|Z}$? What are the parameters of this function?"
   ]
  },
  {
   "cell_type": "markdown",
   "id": "7757c619",
   "metadata": {},
   "source": [
    "**ANSWER**"
   ]
  },
  {
   "cell_type": "markdown",
   "id": "0540b4aa",
   "metadata": {},
   "source": [
    "### Task 01.16\n",
    "\n",
    "Using Bayes' theorem and the law of total probability, compute the conditional probability mass $p_{Z|X}(1|x)$ for the student having understood the topic given their achieved number of points."
   ]
  },
  {
   "cell_type": "markdown",
   "id": "42722ba8",
   "metadata": {},
   "source": [
    "**ANSWER**"
   ]
  },
  {
   "cell_type": "markdown",
   "id": "6195d94c",
   "metadata": {},
   "source": [
    "### Task 01.17\n",
    "\n",
    "Assume that the numbers $x_1, \\ldots, x_m \\in \\mathbb{R}$ are generated (independently) from a Gaussian with mean $\\mu$ and standard deviation $\\sigma$.\n",
    "\n",
    "1. What is the negative log likelihood of the data under this assumption?\n",
    "2. Prove that $\\mu$ and $\\sigma^2$ which minimize the negative log likelihood are exactly $\\mu = \\frac{1}{m} \\sum_{i=1}^m x_i$ and $\\sigma^2 = \\frac{1}{m} \\sum_{i=1}^m (x_i - \\mu)^2$. You may assume that the negative log likelihood is convex, in this case."
   ]
  },
  {
   "cell_type": "markdown",
   "id": "16e25d24",
   "metadata": {},
   "source": [
    "**ANSWER**"
   ]
  }
 ],
 "metadata": {
  "kernelspec": {
   "display_name": "Python 3 (ipykernel)",
   "language": "python",
   "name": "python3"
  },
  "language_info": {
   "codemirror_mode": {
    "name": "ipython",
    "version": 3
   },
   "file_extension": ".py",
   "mimetype": "text/x-python",
   "name": "python",
   "nbconvert_exporter": "python",
   "pygments_lexer": "ipython3",
   "version": "3.9.13"
  }
 },
 "nbformat": 4,
 "nbformat_minor": 5
}
